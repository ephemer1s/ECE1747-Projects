{
 "cells": [
  {
   "cell_type": "code",
   "execution_count": 8,
   "metadata": {},
   "outputs": [],
   "source": [
    "# import maze\n",
    "# with open('sample_mazes/Maze.txt') as f:\n",
    "#     maze = f.read().splitlines()[1:]\n",
    "# maze_size = (len(maze), len(maze[0]))"
   ]
  },
  {
   "cell_type": "code",
   "execution_count": 52,
   "metadata": {},
   "outputs": [],
   "source": [
    "def bruteforce(i:int, j:int, maze)->int:\n",
    "    curr_x = i\n",
    "    curr_y = j\n",
    "    count = 0\n",
    "    distance = 0\n",
    "    moves = [] # stack\n",
    "    \n",
    "    while maze[curr_x][curr_y] != 'F':  # TODO: why not y-x coordinate?\n",
    "        # try going right\n",
    "        if maze[curr_x][curr_y+1] == ' ' or maze[curr_x][curr_y+1] == 'F':\n",
    "            count += 1\n",
    "            distance += 1\n",
    "            curr_y += 1\n",
    "            if maze[curr_x][curr_y] == 'F':\n",
    "                break\n",
    "            moves.append('r')\n",
    "            maze[curr_x][curr_y] = 'o'\n",
    "        \n",
    "        # try going up\n",
    "        elif maze[curr_x-1][curr_y] == ' ' or maze[curr_x-1][curr_y] == 'F':\n",
    "            count += 1\n",
    "            distance += 1\n",
    "            curr_x -= 1\n",
    "            if maze[curr_x][curr_y] == 'F':\n",
    "                break\n",
    "            moves.append('u')\n",
    "            maze[curr_x][curr_y] = 'o'\n",
    "        \n",
    "        # try going down\n",
    "        elif maze[curr_x+1][curr_y] == ' ' or maze[curr_x+1][curr_y] == 'F':\n",
    "            count += 1\n",
    "            distance += 1\n",
    "            curr_x += 1\n",
    "            if maze[curr_x][curr_y] == 'F':\n",
    "                break\n",
    "            moves.append('d')\n",
    "            maze[curr_x][curr_y] = 'o'\n",
    "            \n",
    "        # try going left\n",
    "        elif maze[curr_x][curr_y-1] == ' ' or maze[curr_x][curr_y-1] == 'F':\n",
    "            count += 1\n",
    "            distance += 1\n",
    "            curr_y -= 1\n",
    "            if maze[curr_x][curr_y] == 'F':\n",
    "                break\n",
    "            moves.append('l')\n",
    "            maze[curr_x][curr_y] = 'o'\n",
    "            \n",
    "        # if all directions are blocked, backtrack\n",
    "        elif moves[-1] == 'l':\n",
    "            moves.pop(-1)\n",
    "            count += 1\n",
    "            distance -= 1\n",
    "            if maze[curr_x][curr_y] != 'S':\n",
    "                maze[curr_x][curr_y] = 'x'  # so basically, path taken is marked as wall\n",
    "            curr_y += 1\n",
    "            \n",
    "        elif moves[-1] == 'd':\n",
    "            moves.pop(-1)\n",
    "            count += 1\n",
    "            distance -= 1\n",
    "            if maze[curr_x][curr_y] != 'S':\n",
    "                maze[curr_x][curr_y] = 'x'\n",
    "            curr_x -= 1\n",
    "        \n",
    "        elif moves[-1] == 'u':\n",
    "            moves.pop(-1)\n",
    "            count += 1\n",
    "            distance -= 1\n",
    "            if maze[curr_x][curr_y] != 'S':\n",
    "                maze[curr_x][curr_y] = 'x'\n",
    "            curr_x += 1\n",
    "            \n",
    "        elif moves[-1] == 'r':\n",
    "            moves.pop(-1)\n",
    "            count += 1\n",
    "            distance -= 1\n",
    "            if maze[curr_x][curr_y] != 'S':\n",
    "                maze[curr_x][curr_y] = 'x'\n",
    "            curr_y -= 1\n",
    "            \n",
    "        else:\n",
    "            print('No solution')\n",
    "        \n",
    "        # printable = '\\n'.join([''.join(row) for row in maze])\n",
    "        # print(printable)\n",
    "        # print('\\n')\n",
    "                \n",
    "    # clear x's\n",
    "    # for s in maze:\n",
    "    #     for char in s:\n",
    "    #         char.replace('x', ' ')\n",
    "    \n",
    "    return distance, maze\n",
    "    "
   ]
  },
  {
   "cell_type": "code",
   "execution_count": 55,
   "metadata": {},
   "outputs": [
    {
     "name": "stdout",
     "output_type": "stream",
     "text": [
      "Time taken:  0.0\n",
      "********************\n",
      "*******Soooo********\n",
      "*****ooo***ooooo****\n",
      "***ooo*oooooo**o****\n",
      "*ooooo******oooo ***\n",
      "*o******************\n",
      "*ooo****************\n",
      "***oooo*********F***\n",
      "*    *ooooo*****o***\n",
      "*  *******o*****o***\n",
      "**   *****o***ooo***\n",
      "**  ******o***o*****\n",
      "**     ***o***o*****\n",
      "******ooooo  *o*****\n",
      "*   ooo*******o*****\n",
      "*** o***** ***ooo***\n",
      "****o***   *****o***\n",
      "****oooooo****ooo***\n",
      "*********oooooo*****\n",
      "********************\n"
     ]
    }
   ],
   "source": [
    "import os, time\n",
    "\n",
    "def main():\n",
    "    ## read maze\n",
    "    maze_file = 'Maze.txt'\n",
    "    with open(os.path.join('sample_mazes/', maze_file)) as f:\n",
    "        maze = f.read().splitlines()[1:]\n",
    "    maze = [list(s) for s in maze]\n",
    "    maze_size = (len(maze), len(maze[0]))\n",
    "    \n",
    "    x = 1\n",
    "    y = 1\n",
    "    \n",
    "    for i in range(maze_size[0]):\n",
    "        for j in range(maze_size[1]):\n",
    "            if maze[i][j] == 'S':\n",
    "                x = i\n",
    "                y = j\n",
    "    \n",
    "    starttime = time.time()\n",
    "    \n",
    "    distance, maze = bruteforce(x, y, maze)\n",
    "    \n",
    "    endtime = time.time()\n",
    "    print('Time taken: ', endtime - starttime)\n",
    "    \n",
    "    printable = '\\n'.join([''.join(row) for row in maze])\n",
    "    printable = printable.replace('x', ' ')\n",
    "    print(printable)\n",
    "    \n",
    "main()\n",
    "    "
   ]
  },
  {
   "cell_type": "markdown",
   "metadata": {},
   "source": [
    "## Playground\n"
   ]
  },
  {
   "cell_type": "code",
   "execution_count": 25,
   "metadata": {},
   "outputs": [],
   "source": [
    "maze_file = 'Maze.txt'\n",
    "with open(os.path.join('sample_mazes/', maze_file)) as f:\n",
    "    maze = f.read().splitlines()[1:]\n",
    "maze = [list(s) for s in maze]"
   ]
  },
  {
   "cell_type": "code",
   "execution_count": 27,
   "metadata": {},
   "outputs": [
    {
     "data": {
      "text/plain": [
       "'*'"
      ]
     },
     "execution_count": 27,
     "metadata": {},
     "output_type": "execute_result"
    }
   ],
   "source": [
    "maze[1][1]"
   ]
  }
 ],
 "metadata": {
  "kernelspec": {
   "display_name": "Python 3.7.13 ('ece1786')",
   "language": "python",
   "name": "python3"
  },
  "language_info": {
   "codemirror_mode": {
    "name": "ipython",
    "version": 3
   },
   "file_extension": ".py",
   "mimetype": "text/x-python",
   "name": "python",
   "nbconvert_exporter": "python",
   "pygments_lexer": "ipython3",
   "version": "3.7.13"
  },
  "orig_nbformat": 4,
  "vscode": {
   "interpreter": {
    "hash": "c0fe91e64f7fa0cf5b9a57b90bef6878a877de0a8b504aef95f38ef805624fb0"
   }
  }
 },
 "nbformat": 4,
 "nbformat_minor": 2
}
